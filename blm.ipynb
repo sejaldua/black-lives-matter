{
 "cells": [
  {
   "cell_type": "code",
   "execution_count": 1,
   "metadata": {
    "ExecuteTime": {
     "end_time": "2020-06-03T20:47:46.789152Z",
     "start_time": "2020-06-03T20:47:45.758232Z"
    }
   },
   "outputs": [],
   "source": [
    "import pandas as pd  \n",
    "import numpy as np\n",
    "import matplotlib.pyplot as plt\n",
    "plt.style.use('fivethirtyeight')"
   ]
  },
  {
   "cell_type": "code",
   "execution_count": 56,
   "metadata": {
    "ExecuteTime": {
     "end_time": "2020-06-04T23:16:06.971979Z",
     "start_time": "2020-06-04T23:16:06.965117Z"
    }
   },
   "outputs": [],
   "source": [
    "import twitter\n",
    "import yaml\n",
    "\n",
    "with open('api.yaml') as file:\n",
    "    documents = yaml.load(file)\n",
    "    api_info = documents[0]\n"
   ]
  },
  {
   "cell_type": "code",
   "execution_count": 57,
   "metadata": {
    "ExecuteTime": {
     "end_time": "2020-06-04T23:17:03.615464Z",
     "start_time": "2020-06-04T23:17:03.136947Z"
    }
   },
   "outputs": [
    {
     "name": "stdout",
     "output_type": "stream",
     "text": [
      "How to start writing data science blogs? by @rpdesai24 https://t.co/mQiRx2gSAW\n",
      "RT @de3milade: 21 years ago, an NU black student was killed by CPD a few weeks before he graduated. Like many police brutality cases, the r…\n",
      "The problem is not the very talented, low-flying helicopter pilots wanting to save our city, the problem is the ars… https://t.co/IdUdSCsB0E\n",
      "...Michael is Tough, Smart, and Loves our Country. This has been a big battle in Congress for 25 years. Thank you t… https://t.co/USITlNUI5e\n",
      "Congratulations to Michael Pack! Nobody has any idea what a big victory this is for America. Why? Because he is goi… https://t.co/oW70MzV8Bi\n",
      "The Data Scientists I’ve met by @JosephAllen1234 https://t.co/37MkgHINKq\n",
      "I wonder how many times in my life I have thought “I’ll always remember this,” that I have now completely forgotten about.\n",
      "I thought this letter from respected retired Marine and Super Star lawyer, John Dowd, would be of interest to the A… https://t.co/jyUTskleM5\n",
      "RT @Microsoft: At this time, we will be using our platform to amplify voices from the Black and African American community at Microsoft. ht…\n",
      "RT @aalllih: girls from my hometown holding a black child on a mission trip: 4 paragraphs about how HE is actually teaching ME\n",
      "\n",
      "girls from…\n",
      "RT @RoseEmojiTico: Just an absolutely incredible failure to read the room here https://t.co/FqhfdpD7ew\n",
      "Selected Recent Articles from Top DSC Contributors - Part 6 https://t.co/ji39hn4Hlf\n",
      "RT @photos_zap: @UOsojc We need more classes that teach the impact of media representation for Black and POC folks. Provide scholarships, h…\n",
      "YOU DON’T BURN CHURCHES IN AMERICA!\n",
      "...to the UNITED STATES! We have now brought more than 40 American hostages and detainees back home since I took of… https://t.co/tgBFs2fKSa\n",
      "I just got off the phone with former American hostage Michael White, who is now in Zurich after being released from… https://t.co/A0ohgZusrF\n",
      "Animated Maps Illustrate the Hell of Bay Area Commuting https://t.co/a822FhLnQi\n",
      "RT @GettinMoneyJr: Customer: \"Do the thing! Do the thing!\"\n",
      "\n",
      "Minimum waged high schooler: https://t.co/esKewYTSLR\n",
      "RT @BLMChi: First of all, don’t erase Black organizing who have been calling for this for YEARS. Second of all, how out of touch do u have…\n"
     ]
    }
   ],
   "source": [
    "from twitter import *\n",
    "t = Twitter(auth=OAuth(api_info['ACCESS_TOKEN'], \n",
    "                       api_info['ACCESS_SECRET'], \n",
    "                       api_info['CONSUMER_KEY'], \n",
    "                       api_info['CONSUMER_SECRET']), retry=True)\n",
    "results = t.statuses.home_timeline()\n",
    "for tweet in results:\n",
    "    print(tweet['text'])"
   ]
  },
  {
   "cell_type": "code",
   "execution_count": 58,
   "metadata": {
    "ExecuteTime": {
     "end_time": "2020-06-04T23:17:38.143208Z",
     "start_time": "2020-06-04T23:17:37.959490Z"
    }
   },
   "outputs": [],
   "source": [
    "import pandas as pd\n",
    "import numpy as np\n",
    "import matplotlib.pyplot as plt\n",
    "import json\n",
    "import seaborn as sns\n",
    "import re\n",
    "import collections\n",
    "from wordcloud import WordCloud"
   ]
  },
  {
   "cell_type": "code",
   "execution_count": 59,
   "metadata": {
    "ExecuteTime": {
     "end_time": "2020-06-04T23:18:24.745328Z",
     "start_time": "2020-06-04T23:17:38.566263Z"
    }
   },
   "outputs": [
    {
     "name": "stdout",
     "output_type": "stream",
     "text": [
      "Downloading tweets...\n",
      "Saved 1000\n",
      "Done. Output file generated \"output_got.csv\".\n"
     ]
    }
   ],
   "source": [
    "!python ./GetOldTweets3-0.0.10/GetOldTweets3.py --querysearch \"#blacklivesmatter\" --lang en --maxtweets 1000\n",
    "!mv output_got.csv blm.csv"
   ]
  },
  {
   "cell_type": "code",
   "execution_count": 67,
   "metadata": {
    "ExecuteTime": {
     "end_time": "2020-06-04T23:19:56.082119Z",
     "start_time": "2020-06-04T23:19:55.996362Z"
    }
   },
   "outputs": [
    {
     "name": "stderr",
     "output_type": "stream",
     "text": [
      "/anaconda3/lib/python3.6/site-packages/ipykernel_launcher.py:2: FutureWarning: Passing a negative integer is deprecated in version 1.0 and will not be supported in future version. Instead, use None to not limit the column width.\n",
      "  \n"
     ]
    },
    {
     "data": {
      "text/html": [
       "<div>\n",
       "<style scoped>\n",
       "    .dataframe tbody tr th:only-of-type {\n",
       "        vertical-align: middle;\n",
       "    }\n",
       "\n",
       "    .dataframe tbody tr th {\n",
       "        vertical-align: top;\n",
       "    }\n",
       "\n",
       "    .dataframe thead th {\n",
       "        text-align: right;\n",
       "    }\n",
       "</style>\n",
       "<table border=\"1\" class=\"dataframe\">\n",
       "  <thead>\n",
       "    <tr style=\"text-align: right;\">\n",
       "      <th></th>\n",
       "      <th>date</th>\n",
       "      <th>username</th>\n",
       "      <th>to</th>\n",
       "      <th>replies</th>\n",
       "      <th>retweets</th>\n",
       "      <th>favorites</th>\n",
       "      <th>text</th>\n",
       "      <th>geo</th>\n",
       "      <th>mentions</th>\n",
       "      <th>hashtags</th>\n",
       "      <th>id</th>\n",
       "      <th>permalink</th>\n",
       "    </tr>\n",
       "  </thead>\n",
       "  <tbody>\n",
       "    <tr>\n",
       "      <th>995</th>\n",
       "      <td>2020-06-04 23:11:40</td>\n",
       "      <td>livinoffthewvll</td>\n",
       "      <td>skalirs</td>\n",
       "      <td>0</td>\n",
       "      <td>0</td>\n",
       "      <td>1</td>\n",
       "      <td>People who i hope don’t break the chain @smilexmj @TrecyBenedite @smiIingfaces @Candy_Maah @CHANELD10R @MeshellDeal @kfcformjj @PNKPRlNT @agenttbarton #JusticeForGeorgeFloyd #BlackLivesMatter</td>\n",
       "      <td>NaN</td>\n",
       "      <td>@smilexmj @TrecyBenedite @smiIingfaces @Candy_Maah @CHANELD10R @MeshellDeal @kfcformjj @PNKPRlNT @agenttbarton</td>\n",
       "      <td>#JusticeForGeorgeFloyd #BlackLivesMatter</td>\n",
       "      <td>1268681858247798784</td>\n",
       "      <td>https://twitter.com/livinoffthewvll/status/1268681858247798784</td>\n",
       "    </tr>\n",
       "    <tr>\n",
       "      <th>996</th>\n",
       "      <td>2020-06-04 23:11:40</td>\n",
       "      <td>pintocomics</td>\n",
       "      <td>GorillaBrainPod</td>\n",
       "      <td>0</td>\n",
       "      <td>0</td>\n",
       "      <td>0</td>\n",
       "      <td>I've listened to @8BitRay show before. Always entertaining, certainly funny. He even got me to give that space turd Event Horizon another chance. The reason to listen to this episode is because this one is important and poignant. #blacklivesmatter https:// twitter.com/GorillaBrainPo d/status/1268057160648450049 …</td>\n",
       "      <td>NaN</td>\n",
       "      <td>@8BitRay</td>\n",
       "      <td>#blacklivesmatter</td>\n",
       "      <td>1268681857387974656</td>\n",
       "      <td>https://twitter.com/pintocomics/status/1268681857387974656</td>\n",
       "    </tr>\n",
       "    <tr>\n",
       "      <th>997</th>\n",
       "      <td>2020-06-04 23:11:39</td>\n",
       "      <td>zhuquide</td>\n",
       "      <td>NaN</td>\n",
       "      <td>0</td>\n",
       "      <td>0</td>\n",
       "      <td>0</td>\n",
       "      <td>I understand that nobody is perfect. We're not asking you to be perfect. Just don't be racist. #BlackLivesMatter</td>\n",
       "      <td>NaN</td>\n",
       "      <td>NaN</td>\n",
       "      <td>#BlackLivesMatter</td>\n",
       "      <td>1268681854074445827</td>\n",
       "      <td>https://twitter.com/zhuquide/status/1268681854074445827</td>\n",
       "    </tr>\n",
       "    <tr>\n",
       "      <th>998</th>\n",
       "      <td>2020-06-04 23:11:39</td>\n",
       "      <td>BurntBadges</td>\n",
       "      <td>NaN</td>\n",
       "      <td>0</td>\n",
       "      <td>0</td>\n",
       "      <td>0</td>\n",
       "      <td>I say this without detracting from the beauty of the protests &amp; what has been achieved thus far. Do not let these counter insurgency tactics keep you from the real change you seek. #BLM #BlackLivesMatter #NoJusticeNoPeace #protest2020 pic.twitter.com/cPlrZidZLR</td>\n",
       "      <td>NaN</td>\n",
       "      <td>NaN</td>\n",
       "      <td>#BLM #BlackLivesMatter #NoJusticeNoPeace #protest2020</td>\n",
       "      <td>1268681852895674370</td>\n",
       "      <td>https://twitter.com/BurntBadges/status/1268681852895674370</td>\n",
       "    </tr>\n",
       "    <tr>\n",
       "      <th>999</th>\n",
       "      <td>2020-06-04 23:11:38</td>\n",
       "      <td>ilywintaebear</td>\n",
       "      <td>NaN</td>\n",
       "      <td>0</td>\n",
       "      <td>0</td>\n",
       "      <td>0</td>\n",
       "      <td>#blacklivesmatter #blm #southampton peaceful protest today in my town , NO JUSTICE NO PEACE ! pic.twitter.com/TblWKPGe0z</td>\n",
       "      <td>NaN</td>\n",
       "      <td>NaN</td>\n",
       "      <td>#blacklivesmatter #blm #southampton</td>\n",
       "      <td>1268681851218153472</td>\n",
       "      <td>https://twitter.com/ilywintaebear/status/1268681851218153472</td>\n",
       "    </tr>\n",
       "  </tbody>\n",
       "</table>\n",
       "</div>"
      ],
      "text/plain": [
       "                    date         username               to  replies  retweets  \\\n",
       "995  2020-06-04 23:11:40  livinoffthewvll  skalirs          0        0          \n",
       "996  2020-06-04 23:11:40  pintocomics      GorillaBrainPod  0        0          \n",
       "997  2020-06-04 23:11:39  zhuquide         NaN              0        0          \n",
       "998  2020-06-04 23:11:39  BurntBadges      NaN              0        0          \n",
       "999  2020-06-04 23:11:38  ilywintaebear    NaN              0        0          \n",
       "\n",
       "     favorites  \\\n",
       "995  1           \n",
       "996  0           \n",
       "997  0           \n",
       "998  0           \n",
       "999  0           \n",
       "\n",
       "                                                                                                                                                                                                                                                                                                                           text  \\\n",
       "995  People who i hope don’t break the chain @smilexmj @TrecyBenedite @smiIingfaces @Candy_Maah @CHANELD10R @MeshellDeal @kfcformjj @PNKPRlNT @agenttbarton #JusticeForGeorgeFloyd #BlackLivesMatter                                                                                                                              \n",
       "996  I've listened to @8BitRay show before. Always entertaining, certainly funny. He even got me to give that space turd Event Horizon another chance. The reason to listen to this episode is because this one is important and poignant. #blacklivesmatter https:// twitter.com/GorillaBrainPo d/status/1268057160648450049 …   \n",
       "997  I understand that nobody is perfect. We're not asking you to be perfect. Just don't be racist. #BlackLivesMatter                                                                                                                                                                                                             \n",
       "998  I say this without detracting from the beauty of the protests & what has been achieved thus far. Do not let these counter insurgency tactics keep you from the real change you seek. #BLM #BlackLivesMatter #NoJusticeNoPeace #protest2020 pic.twitter.com/cPlrZidZLR                                                        \n",
       "999  #blacklivesmatter #blm #southampton peaceful protest today in my town , NO JUSTICE NO PEACE ! pic.twitter.com/TblWKPGe0z                                                                                                                                                                                                     \n",
       "\n",
       "     geo  \\\n",
       "995 NaN    \n",
       "996 NaN    \n",
       "997 NaN    \n",
       "998 NaN    \n",
       "999 NaN    \n",
       "\n",
       "                                                                                                           mentions  \\\n",
       "995  @smilexmj @TrecyBenedite @smiIingfaces @Candy_Maah @CHANELD10R @MeshellDeal @kfcformjj @PNKPRlNT @agenttbarton   \n",
       "996  @8BitRay                                                                                                         \n",
       "997  NaN                                                                                                              \n",
       "998  NaN                                                                                                              \n",
       "999  NaN                                                                                                              \n",
       "\n",
       "                                                  hashtags  \\\n",
       "995  #JusticeForGeorgeFloyd #BlackLivesMatter                \n",
       "996  #blacklivesmatter                                       \n",
       "997  #BlackLivesMatter                                       \n",
       "998  #BLM #BlackLivesMatter #NoJusticeNoPeace #protest2020   \n",
       "999  #blacklivesmatter #blm #southampton                     \n",
       "\n",
       "                      id  \\\n",
       "995  1268681858247798784   \n",
       "996  1268681857387974656   \n",
       "997  1268681854074445827   \n",
       "998  1268681852895674370   \n",
       "999  1268681851218153472   \n",
       "\n",
       "                                                          permalink  \n",
       "995  https://twitter.com/livinoffthewvll/status/1268681858247798784  \n",
       "996  https://twitter.com/pintocomics/status/1268681857387974656      \n",
       "997  https://twitter.com/zhuquide/status/1268681854074445827         \n",
       "998  https://twitter.com/BurntBadges/status/1268681852895674370      \n",
       "999  https://twitter.com/ilywintaebear/status/1268681851218153472    "
      ]
     },
     "execution_count": 67,
     "metadata": {},
     "output_type": "execute_result"
    }
   ],
   "source": [
    "df = pd.read_csv(\"blm.csv\")\n",
    "pd.set_option('display.max_colwidth', -1)\n",
    "df.tail()"
   ]
  },
  {
   "cell_type": "code",
   "execution_count": 68,
   "metadata": {
    "ExecuteTime": {
     "end_time": "2020-06-04T23:19:56.909292Z",
     "start_time": "2020-06-04T23:19:56.896283Z"
    }
   },
   "outputs": [],
   "source": [
    "import nltk\n",
    "import re\n",
    "stopwords = nltk.corpus.stopwords.words(\"english\")\n",
    "\n",
    "# Clean tweets for sentiment analysis\n",
    "def get_clean_words(words):\n",
    "    def _isnum(w):\n",
    "        try:\n",
    "            int(w)\n",
    "            return True\n",
    "        except ValueError:\n",
    "            return False\n",
    "        \n",
    "    # Remove URLs\n",
    "    words = re.sub(\"(\\w+:\\/\\/\\S+)\", \" \", ' '.join(words)).split()\n",
    "    \n",
    "    # Remove subsequences of URL\n",
    "    words = [w for w in words if w.find(\"twitter.com\") == -1 \n",
    "             and w.find(\"instagram.com\") == -1 \n",
    "             and w.find(\"pictwitter\") == -1\n",
    "             and w.find(\"youtube.com\") == -1\n",
    "             and w.find(\"igshid\") == -1 \n",
    "             and w.find(\"atus\") == -1]\n",
    "\n",
    "    words = [w for w in words if w != \"RT\" and w != \"via\"]\n",
    "\n",
    "    # Remove punctuation\n",
    "    words = [w.replace('(', '') for w in words]\n",
    "    words = [w.replace(')', '') for w in words]\n",
    "    words = [w.replace('?', '') for w in words]\n",
    "    words = [w.replace(',', '') for w in words]\n",
    "    words = [w.replace('.', '') for w in words]\n",
    "    words = [w.replace('\"', '') for w in words]\n",
    "    words = [w.replace('!', '') for w in words]\n",
    "    words = [w.replace(':', '') for w in words]\n",
    "    words = [w.replace('&amp;', '') for w in words]\n",
    "    words = [w.replace('/', '') for w in words]\n",
    "    words = [w.replace('[', '') for w in words]\n",
    "    words = [w.replace(']', '') for w in words]\n",
    "    \n",
    "    #Remove URL\n",
    "    \n",
    "    # Remove numbers\n",
    "    words = [w for w in words if not _isnum(w)]\n",
    "    \n",
    "    # Remove links\n",
    "    words = [w for w in words if 'http' not in w]\n",
    "        \n",
    "    # Remove hashtags\n",
    "    words = [w for w in words if not w.startswith(\"#\")]\n",
    "    \n",
    "    # Remove mentions\n",
    "    words = [w for w in words if not w.startswith(\"@\")]\n",
    "    \n",
    "    # Set words to lowercase and remove them if they are stop words\n",
    "    words = [w.lower() for w in words if w.lower() not in stopwords]\n",
    "        \n",
    "    # Only keep words with more than one character\n",
    "    words = [w for w in words if len(w) > 1]    \n",
    "    \n",
    "    w = \" \".join(words)\n",
    "    return w"
   ]
  },
  {
   "cell_type": "code",
   "execution_count": 69,
   "metadata": {
    "ExecuteTime": {
     "end_time": "2020-06-04T23:19:57.786652Z",
     "start_time": "2020-06-04T23:19:57.780242Z"
    }
   },
   "outputs": [],
   "source": [
    "# Funtion to pass each tweet into the clean words function and create a new list\n",
    "def clean_tweets(df):\n",
    "    new_text = []\n",
    "    for i in range(len(df)):\n",
    "        new_text.append(get_clean_words(df['text'].values[i].split()))\n",
    "    df.text = new_text"
   ]
  },
  {
   "cell_type": "code",
   "execution_count": 70,
   "metadata": {
    "ExecuteTime": {
     "end_time": "2020-06-04T23:19:58.704415Z",
     "start_time": "2020-06-04T23:19:58.461883Z"
    }
   },
   "outputs": [],
   "source": [
    "clean_tweets(df)"
   ]
  },
  {
   "cell_type": "code",
   "execution_count": 71,
   "metadata": {
    "ExecuteTime": {
     "end_time": "2020-06-04T23:19:59.530813Z",
     "start_time": "2020-06-04T23:19:59.499046Z"
    }
   },
   "outputs": [
    {
     "data": {
      "text/html": [
       "<div>\n",
       "<style scoped>\n",
       "    .dataframe tbody tr th:only-of-type {\n",
       "        vertical-align: middle;\n",
       "    }\n",
       "\n",
       "    .dataframe tbody tr th {\n",
       "        vertical-align: top;\n",
       "    }\n",
       "\n",
       "    .dataframe thead th {\n",
       "        text-align: right;\n",
       "    }\n",
       "</style>\n",
       "<table border=\"1\" class=\"dataframe\">\n",
       "  <thead>\n",
       "    <tr style=\"text-align: right;\">\n",
       "      <th></th>\n",
       "      <th>date</th>\n",
       "      <th>username</th>\n",
       "      <th>to</th>\n",
       "      <th>replies</th>\n",
       "      <th>retweets</th>\n",
       "      <th>favorites</th>\n",
       "      <th>text</th>\n",
       "      <th>geo</th>\n",
       "      <th>mentions</th>\n",
       "      <th>hashtags</th>\n",
       "      <th>id</th>\n",
       "      <th>permalink</th>\n",
       "    </tr>\n",
       "  </thead>\n",
       "  <tbody>\n",
       "    <tr>\n",
       "      <th>0</th>\n",
       "      <td>2020-06-04 23:17:42</td>\n",
       "      <td>bluejayjess26</td>\n",
       "      <td>NaN</td>\n",
       "      <td>0</td>\n",
       "      <td>0</td>\n",
       "      <td>0</td>\n",
       "      <td>seriously trending</td>\n",
       "      <td>NaN</td>\n",
       "      <td>NaN</td>\n",
       "      <td>#BLM #Peacefulprotest #GeorgeFloyd #BlackLivesMatter #NoRacism #GeorgeFloydMemorial #protest2020</td>\n",
       "      <td>1268683374488547329</td>\n",
       "      <td>https://twitter.com/bluejayjess26/status/1268683374488547329</td>\n",
       "    </tr>\n",
       "    <tr>\n",
       "      <th>1</th>\n",
       "      <td>2020-06-04 23:17:40</td>\n",
       "      <td>TallGamer</td>\n",
       "      <td>NaN</td>\n",
       "      <td>0</td>\n",
       "      <td>0</td>\n",
       "      <td>0</td>\n",
       "      <td>love appreciate delivers messages keeps cool t1pcc</td>\n",
       "      <td>NaN</td>\n",
       "      <td>@KillerMike</td>\n",
       "      <td>#blacklivesmatter</td>\n",
       "      <td>1268683368666988546</td>\n",
       "      <td>https://twitter.com/TallGamer/status/1268683368666988546</td>\n",
       "    </tr>\n",
       "    <tr>\n",
       "      <th>2</th>\n",
       "      <td>2020-06-04 23:17:39</td>\n",
       "      <td>Alice_Kelis</td>\n",
       "      <td>NaN</td>\n",
       "      <td>0</td>\n",
       "      <td>0</td>\n",
       "      <td>0</td>\n",
       "      <td>tribute george floyd city</td>\n",
       "      <td>NaN</td>\n",
       "      <td>NaN</td>\n",
       "      <td>#Jorit #Naples #Italy #GeorgeFloyd #MartinLutherKing #Lenin #MalcomX #AngelaDavis #BlackLivesMatteritaly #BlackLivesMatter</td>\n",
       "      <td>1268683363675668485</td>\n",
       "      <td>https://twitter.com/Alice_Kelis/status/1268683363675668485</td>\n",
       "    </tr>\n",
       "    <tr>\n",
       "      <th>3</th>\n",
       "      <td>2020-06-04 23:17:39</td>\n",
       "      <td>dallasdoinggood</td>\n",
       "      <td>NaN</td>\n",
       "      <td>0</td>\n",
       "      <td>0</td>\n",
       "      <td>0</td>\n",
       "      <td>team asked black leaders nonprofit social good share best support causes champion ready learn help start dallasdoinggoodcomdoing-goodbla ck-nonprofit-leadership-in-dallas</td>\n",
       "      <td>NaN</td>\n",
       "      <td>NaN</td>\n",
       "      <td>#dallasdoinggood #nonprofit #blackleaders #blacklivesmatter</td>\n",
       "      <td>1268683362224521216</td>\n",
       "      <td>https://twitter.com/dallasdoinggood/status/1268683362224521216</td>\n",
       "    </tr>\n",
       "    <tr>\n",
       "      <th>4</th>\n",
       "      <td>2020-06-04 23:17:38</td>\n",
       "      <td>anneeeettee</td>\n",
       "      <td>NaN</td>\n",
       "      <td>0</td>\n",
       "      <td>0</td>\n",
       "      <td>0</td>\n",
       "      <td>people going protests here’s first aid video saw</td>\n",
       "      <td>NaN</td>\n",
       "      <td>NaN</td>\n",
       "      <td>#blm #blacklivesmatter</td>\n",
       "      <td>1268683360420978688</td>\n",
       "      <td>https://twitter.com/anneeeettee/status/1268683360420978688</td>\n",
       "    </tr>\n",
       "  </tbody>\n",
       "</table>\n",
       "</div>"
      ],
      "text/plain": [
       "                  date         username   to  replies  retweets  favorites  \\\n",
       "0  2020-06-04 23:17:42  bluejayjess26    NaN  0        0         0           \n",
       "1  2020-06-04 23:17:40  TallGamer        NaN  0        0         0           \n",
       "2  2020-06-04 23:17:39  Alice_Kelis      NaN  0        0         0           \n",
       "3  2020-06-04 23:17:39  dallasdoinggood  NaN  0        0         0           \n",
       "4  2020-06-04 23:17:38  anneeeettee      NaN  0        0         0           \n",
       "\n",
       "                                                                                                                                                                         text  \\\n",
       "0  seriously trending                                                                                                                                                           \n",
       "1  love appreciate delivers messages keeps cool t1pcc                                                                                                                           \n",
       "2  tribute george floyd city                                                                                                                                                    \n",
       "3  team asked black leaders nonprofit social good share best support causes champion ready learn help start dallasdoinggoodcomdoing-goodbla ck-nonprofit-leadership-in-dallas   \n",
       "4  people going protests here’s first aid video saw                                                                                                                             \n",
       "\n",
       "   geo     mentions  \\\n",
       "0 NaN   NaN           \n",
       "1 NaN   @KillerMike   \n",
       "2 NaN   NaN           \n",
       "3 NaN   NaN           \n",
       "4 NaN   NaN           \n",
       "\n",
       "                                                                                                                     hashtags  \\\n",
       "0  #BLM #Peacefulprotest #GeorgeFloyd #BlackLivesMatter #NoRacism #GeorgeFloydMemorial #protest2020                             \n",
       "1  #blacklivesmatter                                                                                                            \n",
       "2  #Jorit #Naples #Italy #GeorgeFloyd #MartinLutherKing #Lenin #MalcomX #AngelaDavis #BlackLivesMatteritaly #BlackLivesMatter   \n",
       "3  #dallasdoinggood #nonprofit #blackleaders #blacklivesmatter                                                                  \n",
       "4  #blm #blacklivesmatter                                                                                                       \n",
       "\n",
       "                    id  \\\n",
       "0  1268683374488547329   \n",
       "1  1268683368666988546   \n",
       "2  1268683363675668485   \n",
       "3  1268683362224521216   \n",
       "4  1268683360420978688   \n",
       "\n",
       "                                                        permalink  \n",
       "0  https://twitter.com/bluejayjess26/status/1268683374488547329    \n",
       "1  https://twitter.com/TallGamer/status/1268683368666988546        \n",
       "2  https://twitter.com/Alice_Kelis/status/1268683363675668485      \n",
       "3  https://twitter.com/dallasdoinggood/status/1268683362224521216  \n",
       "4  https://twitter.com/anneeeettee/status/1268683360420978688      "
      ]
     },
     "execution_count": 71,
     "metadata": {},
     "output_type": "execute_result"
    }
   ],
   "source": [
    "df.head()"
   ]
  },
  {
   "cell_type": "code",
   "execution_count": null,
   "metadata": {
    "ExecuteTime": {
     "start_time": "2020-06-04T23:20:17.174Z"
    }
   },
   "outputs": [
    {
     "name": "stdout",
     "output_type": "stream",
     "text": [
      "seriously trending love appreciate delivers messages keeps cool t1pcc tribute george floyd city team asked black leaders nonprofit social good share best support causes champion ready learn help start\n"
     ]
    }
   ],
   "source": [
    "\n",
    "import wordcloud\n",
    "import matplotlib.pylab as plt\n",
    "from PIL import Image\n",
    "import random\n",
    "\n",
    "def grey_color_func(word, font_size, position, orientation, random_state=None, **kwargs):\n",
    "    return \"hsl(0, 0%%, %d%%)\" % random.randint(60, 100)\n",
    "\n",
    "char_mask = np.array(Image.open(\"image_masks/blm.jpg\"))    \n",
    "image_colors = wordcloud.ImageColorGenerator(char_mask)\n",
    "fig = plt.figure(figsize=(12, 18), dpi=300)\n",
    "text = ' '.join(list(df.text))\n",
    "print(text[:200])\n",
    "wc = wordcloud.WordCloud(background_color=\"black\", max_words=10000, width=400, height=400, mask=char_mask, collocations=False, random_state=42)\n",
    "wc.generate(text)\n",
    "plt.imshow(wc.recolor(color_func=grey_color_func), interpolation='bilinear')\n",
    "plt.axis(\"off\")\n",
    "plt.tight_layout()\n",
    "plt.show()"
   ]
  },
  {
   "cell_type": "markdown",
   "metadata": {},
   "source": [
    "## "
   ]
  }
 ],
 "metadata": {
  "kernelspec": {
   "display_name": "Python 3",
   "language": "python",
   "name": "python3"
  },
  "language_info": {
   "codemirror_mode": {
    "name": "ipython",
    "version": 3
   },
   "file_extension": ".py",
   "mimetype": "text/x-python",
   "name": "python",
   "nbconvert_exporter": "python",
   "pygments_lexer": "ipython3",
   "version": "3.6.6"
  },
  "toc": {
   "base_numbering": 1,
   "nav_menu": {},
   "number_sections": true,
   "sideBar": true,
   "skip_h1_title": false,
   "title_cell": "Table of Contents",
   "title_sidebar": "Contents",
   "toc_cell": false,
   "toc_position": {},
   "toc_section_display": true,
   "toc_window_display": false
  },
  "varInspector": {
   "cols": {
    "lenName": 16,
    "lenType": 16,
    "lenVar": 40
   },
   "kernels_config": {
    "python": {
     "delete_cmd_postfix": "",
     "delete_cmd_prefix": "del ",
     "library": "var_list.py",
     "varRefreshCmd": "print(var_dic_list())"
    },
    "r": {
     "delete_cmd_postfix": ") ",
     "delete_cmd_prefix": "rm(",
     "library": "var_list.r",
     "varRefreshCmd": "cat(var_dic_list()) "
    }
   },
   "types_to_exclude": [
    "module",
    "function",
    "builtin_function_or_method",
    "instance",
    "_Feature"
   ],
   "window_display": false
  }
 },
 "nbformat": 4,
 "nbformat_minor": 2
}
